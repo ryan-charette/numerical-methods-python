{
 "cells": [
  {
   "cell_type": "code",
   "execution_count": 2,
   "id": "3f7d7718",
   "metadata": {},
   "outputs": [
    {
     "name": "stdout",
     "output_type": "stream",
     "text": [
      "We are working on u: \n",
      " [1 2 3]\n",
      "The shape of u is:  (3,)\n",
      "The len of u is:  3\n"
     ]
    }
   ],
   "source": [
    "# Part 1: Some basics\n",
    "import numpy as np\n",
    "import numpy.linalg as la\n",
    "\n",
    "# What is a vector and how can it be represented in python?\n",
    "u = np.array([1,2,3])\n",
    "\n",
    "print(\"We are working on u: \\n\", u)\n",
    "print(\"The shape of u is: \", u.shape)\n",
    "print(\"The len of u is: \", len(u))"
   ]
  },
  {
   "cell_type": "code",
   "execution_count": null,
   "id": "c5334651",
   "metadata": {},
   "outputs": [],
   "source": [
    "# What are the defining properties of a vector?\n",
    "#1 \n",
    "print(\"First property is: ____, which is computed in python to be \", \" for u\")\n",
    "#2\n",
    "print(\"Second property is: ____, which is computed in python to be \", \" for u\")\n"
   ]
  },
  {
   "cell_type": "code",
   "execution_count": null,
   "id": "036c9bad",
   "metadata": {},
   "outputs": [],
   "source": [
    "# So what is the shape of u after we transpose it?\n",
    "uT = u.transpose()\n",
    "print(\"If I transpose u it is now: \\n\", uT)\n",
    "print(\"The shape of u is: \", uT.shape)"
   ]
  },
  {
   "cell_type": "code",
   "execution_count": null,
   "id": "788548b6",
   "metadata": {},
   "outputs": [],
   "source": [
    "v = np.array([[1,2,3]])\n",
    "print(\"\\nNow we are working on v: \\n\", v)\n",
    "print(\"The shape of v is: \", v.shape)\n",
    "print(\"The len of v is: \", len(v))\n",
    "\n",
    "vT = v.transpose()\n",
    "print(\"If I transpose v it is now: \\n\", vT)\n",
    "print(\"With shape\", vT.shape)"
   ]
  },
  {
   "cell_type": "code",
   "execution_count": null,
   "id": "be76c54b",
   "metadata": {},
   "outputs": [],
   "source": [
    "# What is the first column of this matrix?\n",
    "M = np.matrix([[1,2,3],[4,5,6],[7,8,9]])\n",
    "print(\"\\nNow we are working on the matrix M: \\n\", M)\n",
    "print(\"The shape of M is: \", M.shape)\n",
    "print(\"The len of M is: \", len(M))"
   ]
  },
  {
   "cell_type": "code",
   "execution_count": null,
   "id": "d9963501",
   "metadata": {},
   "outputs": [],
   "source": [
    "# What is the first column of this matrix?\n",
    "MT = M.transpose()\n",
    "print(\"If I transpose M it is now: \\n\", MT)\n",
    "print(\"With shape\", MT.shape)"
   ]
  },
  {
   "cell_type": "code",
   "execution_count": null,
   "id": "1e3aded8",
   "metadata": {},
   "outputs": [],
   "source": [
    "# Part 2: Matrices, indexing, slicing, and at least one nuance I wish I knew\n",
    "A = np.array([[1,2,3],[4,5,6],[7,8,9]])\n",
    "print(A)\n",
    "print(\"The first column of A is \\n\",A[:,0])\n",
    "print(\"The second row of A is \\n\",A[1,:])\n",
    "print(\"The top left 2x2 sub matrix of A is \\n\",A[:-1,:-1])\n",
    "print(\"The bottom right 2x2 sub matrix of A is \\n\",A[1:,1:])\n",
    "u = np.array([1,2,3,4,5,6])\n",
    "print(\"The first 3 entries of the vector u are \\n\",u[:3])\n",
    "print(\"The last entry of the vector u is \\n\",u[-1])\n",
    "print(\"The last two entries of the vector u are \\n\",u[-2:])\n"
   ]
  },
  {
   "cell_type": "code",
   "execution_count": null,
   "id": "1a404268",
   "metadata": {},
   "outputs": [],
   "source": [
    "# What do you expect to happen if we do the operation below?\n",
    "A + 1"
   ]
  },
  {
   "cell_type": "code",
   "execution_count": null,
   "id": "cf2b77e7",
   "metadata": {},
   "outputs": [],
   "source": [
    "# So what is A now?\n",
    "print(A)"
   ]
  },
  {
   "cell_type": "code",
   "execution_count": null,
   "id": "bdcf6f31",
   "metadata": {},
   "outputs": [],
   "source": [
    "# What is A * A and A * v?\n",
    "v = np.array([[1, 2, 3]])\n",
    "print(\"A * A is: \\n\", A * A)\n",
    "print(\"A * v is: \\n\", A * v)\n"
   ]
  },
  {
   "cell_type": "code",
   "execution_count": null,
   "id": "6c97fcd9",
   "metadata": {},
   "outputs": [],
   "source": [
    "# If we convert A to a matrix, or define it that way from the start, what is A * A and A * v now?\n",
    "print(type(A))\n",
    "A = np.matrix(A)\n",
    "print(type(A))\n",
    "print(\"A * A is: \", A * A)\n",
    "print(\"A * v is: \", A * v)\n"
   ]
  },
  {
   "cell_type": "code",
   "execution_count": null,
   "id": "d8544dc3",
   "metadata": {},
   "outputs": [],
   "source": [
    "# What went wrong?\n",
    "print(\"A: \", A)\n",
    "print(\"v: \", v)\n",
    "print(\"\")\n",
    "print(\"Size of A: \", A.shape)\n",
    "print(\"Size of v: \", v.shape)\n",
    "# So what if we now transpose v?\n",
    "A * v.transpose()"
   ]
  },
  {
   "cell_type": "code",
   "execution_count": null,
   "id": "f6a80907",
   "metadata": {},
   "outputs": [],
   "source": [
    "# Part 3: Geometric interpretations and 3 potential ways to get vector dot products\n",
    "import matplotlib.pyplot as plt\n",
    "\n",
    "u = np.array([1, 3])\n",
    "v = np.array([5, 0])\n",
    "origin = np.array([0,0])\n",
    "\n",
    "# Plot the vectors\n",
    "plt.quiver(*origin, *u, color=['r'], scale=21)\n",
    "plt.quiver(*origin, *v, color=['b'], scale=21)"
   ]
  },
  {
   "cell_type": "code",
   "execution_count": null,
   "id": "3842069d",
   "metadata": {},
   "outputs": [],
   "source": [
    "# What does it mean to project one vector onto another? \n",
    "# What would be the visual representation of the projection of the red vector onto the blue vector?\n"
   ]
  },
  {
   "cell_type": "code",
   "execution_count": null,
   "id": "7f556002",
   "metadata": {},
   "outputs": [],
   "source": [
    "print(\"Shape of u is: \", u.shape)\n",
    "print(\"First dot product method: \", u[0] * v[0] + u[1] * v[1] + u[2] * v[2])\n",
    "print(\"Second dot product method: \", u.dot(v))\n",
    "\n",
    "u = np.matrix([1, 2, 3])\n",
    "v = np.matrix([1, 2, 3])\n",
    "print(\"Shape of u is: \", u.shape)\n",
    "\n",
    "print(\"Third dot product method: \", u * v.transpose())\n"
   ]
  },
  {
   "cell_type": "code",
   "execution_count": 3,
   "id": "20b37e18",
   "metadata": {},
   "outputs": [
    {
     "name": "stdout",
     "output_type": "stream",
     "text": [
      "Loading Glove Model\n",
      "14921 words loaded!\n"
     ]
    }
   ],
   "source": [
    "# Part 4: Lets play with some word vectors\n",
    "# More reading here: https://nlp.stanford.edu/projects/glove/\n",
    "# ASSUMPTIONS: All word embeddings are unit vectors \n",
    "\n",
    "# The loading of the glove model is shamelessly reproduced from here: \n",
    "# https://stackoverflow.com/questions/37793118/load-pretrained-glove-vectors-in-python\n",
    "import numpy as np\n",
    "import numpy.linalg as la\n",
    "import random\n",
    "\n",
    "# Load in the glove model\n",
    "def load_glove_model(File):\n",
    "    print(\"Loading Glove Model\")\n",
    "    glove_model = {}\n",
    "    with open(File,'r') as f:\n",
    "        for line in f:\n",
    "            split_line = line.split()\n",
    "            word = split_line[0]\n",
    "            embedding = np.array(split_line[1:], dtype=np.float64)\n",
    "            glove_model[word] = embedding\n",
    "    print(f\"{len(glove_model)} words loaded!\")\n",
    "    return glove_model\n",
    "gloveModel = load_glove_model(\"glove.6B.50d-relativized.txt\")"
   ]
  },
  {
   "cell_type": "code",
   "execution_count": 4,
   "id": "183592e9",
   "metadata": {
    "scrolled": true
   },
   "outputs": [
    {
     "name": "stdout",
     "output_type": "stream",
     "text": [
      "Shape of all_embed_matrix is:  (14921, 50)\n",
      "The index of red in the word embedding matrix is:  545\n",
      "The index of apple in the word embedding matrix is:  2385\n",
      "The magnitude of the red word embedding vector is:  1.0\n",
      "The magnitude of the apple word embedding vector is:  0.9999999999999999\n",
      "The index 545 maps to the word:  red\n",
      "The index 2385 maps to the word:  apple\n",
      "(50,)\n",
      "Angle between red and yellow vec is:  0.4520674001371504  radians\n",
      "Angle between red and lemon vec is:  1.0609067275167239  radians\n",
      "Angle between lemon and computer vec is:  1.5669356588771541  radians\n"
     ]
    }
   ],
   "source": [
    "# Make an array containing all the glove word embeddings\n",
    "all_embed_matrix = np.array(list(gloveModel.values()))\n",
    "\n",
    "# Ensure our embeddings are all unit vectors\n",
    "all_embed_matrix = all_embed_matrix / np.linalg.norm(all_embed_matrix, axis=-1)[:, np.newaxis]\n",
    "\n",
    "print(\"Shape of all_embed_matrix is: \", all_embed_matrix.shape)\n",
    "\n",
    "# Make a dictionary of keys and their indices for the word embeddings\n",
    "all_keys = list(gloveModel.keys())\n",
    "name2ind = {k: v for v, k in enumerate(all_keys)}\n",
    "ind2name = {v: k for k, v in name2ind.items()}\n",
    "\n",
    "\n",
    "# Examples:\n",
    "print(\"The index of red in the word embedding matrix is: \", name2ind['red'])\n",
    "print(\"The index of apple in the word embedding matrix is: \", name2ind['apple'])\n",
    "print(\"The magnitude of the red word embedding vector is: \", la.norm(all_embed_matrix[name2ind['red']]))\n",
    "print(\"The magnitude of the apple word embedding vector is: \", la.norm(all_embed_matrix[name2ind['apple']]))\n",
    "print(\"The index 545 maps to the word: \", ind2name[545])\n",
    "print(\"The index 2385 maps to the word: \", ind2name[2385])\n",
    "\n",
    "# Colors\n",
    "red_vec = all_embed_matrix[name2ind['red']]\n",
    "green_vec = all_embed_matrix[name2ind['green']]\n",
    "yellow_vec = all_embed_matrix[name2ind['yellow']]\n",
    "orange_vec = all_embed_matrix[name2ind['orange']]\n",
    "\n",
    "# Fruits\n",
    "apple_vec = all_embed_matrix[name2ind['apple'], :]\n",
    "lemon_vec = all_embed_matrix[name2ind['lemon'], :]\n",
    "\n",
    "# More random\n",
    "computer_vec = all_embed_matrix[name2ind['computer'], :]\n",
    "\n",
    "print(orange_vec.shape)\n",
    "\n",
    "# Example of dot product to find similarity between two words:\n",
    "print(\"Angle between red and yellow vec is: \", np.arccos(red_vec.dot(yellow_vec)), \" radians\")\n",
    "print(\"Angle between red and lemon vec is: \", np.arccos(red_vec.dot(lemon_vec)), \" radians\")\n",
    "print(\"Angle between lemon and computer vec is: \", np.arccos(lemon_vec.dot(computer_vec)), \" radians\")\n",
    "\n"
   ]
  },
  {
   "cell_type": "code",
   "execution_count": 30,
   "id": "a94c3acc",
   "metadata": {},
   "outputs": [
    {
     "name": "stdout",
     "output_type": "stream",
     "text": [
      "[(0.6242010825495516, 'blue'), (0.6363214380710058, 'red'), (0.6698509220837295, 'yellow'), (0.6872860942061564, 'black'), (0.7017602983719611, 'pink'), (0.7125921259693931, 'green'), (0.7339142754567872, 'white'), (0.7513343171150534, 'colored'), (0.781971009614838, 'cream'), (0.8344375157036465, 'colors'), (0.8547740722240827, 'coat'), (0.8551196100329026, 'juice'), (0.860332422352362, 'shirt'), (0.8638228980090293, 'pale'), (0.8716318785474518, 'lemon'), (0.8812019664915364, 'light'), (0.884052181199213, 'color'), (0.8890094839729359, 'gray'), (0.8928404863068546, 'brown'), (0.8987313997070336, 'dark')]\n"
     ]
    }
   ],
   "source": [
    "# So is orange represented as a fruit or a color here? Same goes for apple being a fruit or a company?\n",
    "\n",
    "# Consider the built in numpy operations (sort, argsort, arccos), your new knowledge about matrices and vectors,\n",
    "# and that u.v = ||u||||v||cos(theta), where theta is the angle between the two vectors.\n",
    "# How can we, with as few numpy operations possible, figure out which 20 words are most \n",
    "# associated with orange (or any other word) in our word embeddings? The hope would be to use this information\n",
    "# to break the ambiguity for word contexts in our embedding vectors.\n",
    "\n",
    "# The dictionary is limited, but if you pick an arbitrary index in the dictionary (via random.randint(0, 14920)), \n",
    "# what words are most associated with your choice? Anything surprising?\n",
    "\n",
    "best = [(10, 'word') for i in range(20)]\n",
    "\n",
    "for i in range(len(all_keys)):\n",
    "    vec = all_embed_matrix[i]\n",
    "    relation = np.arccos(orange_vec.dot(vec))\n",
    "    if relation < best[-1][0] and relation > 0:\n",
    "        best[-1] = (relation, ind2name[i])\n",
    "        best.sort()\n",
    "\n",
    "print(best)\n",
    "\n",
    "\n",
    "\n",
    "\n",
    "\n",
    "\n",
    "\n"
   ]
  },
  {
   "cell_type": "code",
   "execution_count": null,
   "id": "d4a0646f",
   "metadata": {},
   "outputs": [],
   "source": []
  }
 ],
 "metadata": {
  "kernelspec": {
   "display_name": "Python 3 (ipykernel)",
   "language": "python",
   "name": "python3"
  },
  "language_info": {
   "codemirror_mode": {
    "name": "ipython",
    "version": 3
   },
   "file_extension": ".py",
   "mimetype": "text/x-python",
   "name": "python",
   "nbconvert_exporter": "python",
   "pygments_lexer": "ipython3",
   "version": "3.9.13"
  }
 },
 "nbformat": 4,
 "nbformat_minor": 5
}
